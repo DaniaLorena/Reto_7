{
 "cells": [
  {
   "cell_type": "markdown",
   "metadata": {},
   "source": [
    "### Reto 7\n",
    "\n",
    "- Nombre: Dania Lorena Pérez Moreno\n",
    "- Documento: 1057570905\n"
   ]
  },
  {
   "cell_type": "markdown",
   "metadata": {},
   "source": [
    "##### Primer punto\n",
    "Imprimir un listado con los números del 1 al 100 cada uno con su respectivo cuadrado."
   ]
  },
  {
   "cell_type": "code",
   "execution_count": 2,
   "metadata": {},
   "outputs": [
    {
     "name": "stdout",
     "output_type": "stream",
     "text": [
      "El cuadrado de 1 es: 1\n",
      "El cuadrado de 2 es: 4\n",
      "El cuadrado de 3 es: 9\n",
      "El cuadrado de 4 es: 16\n",
      "El cuadrado de 5 es: 25\n",
      "El cuadrado de 6 es: 36\n",
      "El cuadrado de 7 es: 49\n",
      "El cuadrado de 8 es: 64\n",
      "El cuadrado de 9 es: 81\n",
      "El cuadrado de 10 es: 100\n",
      "El cuadrado de 11 es: 121\n",
      "El cuadrado de 12 es: 144\n",
      "El cuadrado de 13 es: 169\n",
      "El cuadrado de 14 es: 196\n",
      "El cuadrado de 15 es: 225\n",
      "El cuadrado de 16 es: 256\n",
      "El cuadrado de 17 es: 289\n",
      "El cuadrado de 18 es: 324\n",
      "El cuadrado de 19 es: 361\n",
      "El cuadrado de 20 es: 400\n",
      "El cuadrado de 21 es: 441\n",
      "El cuadrado de 22 es: 484\n",
      "El cuadrado de 23 es: 529\n",
      "El cuadrado de 24 es: 576\n",
      "El cuadrado de 25 es: 625\n",
      "El cuadrado de 26 es: 676\n",
      "El cuadrado de 27 es: 729\n",
      "El cuadrado de 28 es: 784\n",
      "El cuadrado de 29 es: 841\n",
      "El cuadrado de 30 es: 900\n",
      "El cuadrado de 31 es: 961\n",
      "El cuadrado de 32 es: 1024\n",
      "El cuadrado de 33 es: 1089\n",
      "El cuadrado de 34 es: 1156\n",
      "El cuadrado de 35 es: 1225\n",
      "El cuadrado de 36 es: 1296\n",
      "El cuadrado de 37 es: 1369\n",
      "El cuadrado de 38 es: 1444\n",
      "El cuadrado de 39 es: 1521\n",
      "El cuadrado de 40 es: 1600\n",
      "El cuadrado de 41 es: 1681\n",
      "El cuadrado de 42 es: 1764\n",
      "El cuadrado de 43 es: 1849\n",
      "El cuadrado de 44 es: 1936\n",
      "El cuadrado de 45 es: 2025\n",
      "El cuadrado de 46 es: 2116\n",
      "El cuadrado de 47 es: 2209\n",
      "El cuadrado de 48 es: 2304\n",
      "El cuadrado de 49 es: 2401\n",
      "El cuadrado de 50 es: 2500\n",
      "El cuadrado de 51 es: 2601\n",
      "El cuadrado de 52 es: 2704\n",
      "El cuadrado de 53 es: 2809\n",
      "El cuadrado de 54 es: 2916\n",
      "El cuadrado de 55 es: 3025\n",
      "El cuadrado de 56 es: 3136\n",
      "El cuadrado de 57 es: 3249\n",
      "El cuadrado de 58 es: 3364\n",
      "El cuadrado de 59 es: 3481\n",
      "El cuadrado de 60 es: 3600\n",
      "El cuadrado de 61 es: 3721\n",
      "El cuadrado de 62 es: 3844\n",
      "El cuadrado de 63 es: 3969\n",
      "El cuadrado de 64 es: 4096\n",
      "El cuadrado de 65 es: 4225\n",
      "El cuadrado de 66 es: 4356\n",
      "El cuadrado de 67 es: 4489\n",
      "El cuadrado de 68 es: 4624\n",
      "El cuadrado de 69 es: 4761\n",
      "El cuadrado de 70 es: 4900\n",
      "El cuadrado de 71 es: 5041\n",
      "El cuadrado de 72 es: 5184\n",
      "El cuadrado de 73 es: 5329\n",
      "El cuadrado de 74 es: 5476\n",
      "El cuadrado de 75 es: 5625\n",
      "El cuadrado de 76 es: 5776\n",
      "El cuadrado de 77 es: 5929\n",
      "El cuadrado de 78 es: 6084\n",
      "El cuadrado de 79 es: 6241\n",
      "El cuadrado de 80 es: 6400\n",
      "El cuadrado de 81 es: 6561\n",
      "El cuadrado de 82 es: 6724\n",
      "El cuadrado de 83 es: 6889\n",
      "El cuadrado de 84 es: 7056\n",
      "El cuadrado de 85 es: 7225\n",
      "El cuadrado de 86 es: 7396\n",
      "El cuadrado de 87 es: 7569\n",
      "El cuadrado de 88 es: 7744\n",
      "El cuadrado de 89 es: 7921\n",
      "El cuadrado de 90 es: 8100\n",
      "El cuadrado de 91 es: 8281\n",
      "El cuadrado de 92 es: 8464\n",
      "El cuadrado de 93 es: 8649\n",
      "El cuadrado de 94 es: 8836\n",
      "El cuadrado de 95 es: 9025\n",
      "El cuadrado de 96 es: 9216\n",
      "El cuadrado de 97 es: 9409\n",
      "El cuadrado de 98 es: 9604\n",
      "El cuadrado de 99 es: 9801\n",
      "El cuadrado de 100 es: 10000\n"
     ]
    }
   ],
   "source": [
    "i : int = 1 #Se inicializa i en 1, ya que va desde 1\n",
    "while (i <= 100 ): #Entra en el ciclo siempre y cuando i sea menor o igual a 100\n",
    "    print (f\"El cuadrado de {i} es: {i**2}\") #Se imprime la variable con su cuadrado\n",
    "    i += 1 # Se actualiza el valor de i sumando 1 en cada iteracion "
   ]
  },
  {
   "cell_type": "markdown",
   "metadata": {},
   "source": [
    "##### Segundo punto\n",
    "Imprimir un listado con los números impares desde 1 hasta 999 y seguidamente otro listado con los números pares desde 2 hasta 1000."
   ]
  },
  {
   "cell_type": "code",
   "execution_count": null,
   "metadata": {},
   "outputs": [],
   "source": [
    "#Imprimir un listado con los números impares desde 1 hasta 999 y seguidamente otro listado con los números pares desde 2 hasta 1000.\n",
    "j : int = 0 # Se inicializa la varible j que se va a encargar de cambiar en el ciclo While\n",
    "print (\"La lista de los numeros impares del 1 hasta el 1000 es:\") # Se imprime un mensaje\n",
    "while(j < 1000): # j entra en el ciclo While y este se repite siempre que j sea menor a 1000\n",
    "  j += 1 # La variable j se actualiza\n",
    "  if (j % 2 == 0): #Se utiliza un condicional en el cual se evalua si modulo de j entre 2 es igual a cero, si esto es verdad es un numero para\n",
    "    continue #Si esto es verdad, sale de la iteracion actual y continua con el ciclo\n",
    "  print (j)#Se imprime j, que vendria siendo un numero impar\n",
    "\n",
    "i : int = 0 \n",
    "print (\"La lista de los numeros pares del 1 hasta el 1000 es:\")\n",
    "while(i < 1000): \n",
    "  i += 1 \n",
    "  if (i % 2 != 0): #Se evalua si el modula entre i y 2 es diferente a 0, si es verdad significa que es un numero impar\n",
    "    continue # Ya que es un numero impar sale de la iteracion y continua con el ciclo\n",
    "  print (i)\n"
   ]
  },
  {
   "cell_type": "markdown",
   "metadata": {},
   "source": [
    "##### Tercer punto\n",
    "Imprimir los números pares en forma descendente hasta 2 que son menores o iguales a un número natural n ≥ 2 dado"
   ]
  },
  {
   "cell_type": "code",
   "execution_count": null,
   "metadata": {},
   "outputs": [],
   "source": [
    "\n",
    "num : int\n",
    "num = int (input(\"Ingrese un numero natural: \")) #Se solicita un numero al usuario\n",
    "i : int = 0 # Se inicializa una variable que sera el iterador \n",
    "while (num > i): #Se implementa el ciclo While, el cual se repetira siempre y cuando el numero ingresado sea mayor al iterador (i)\n",
    "    if (num % 2 != 0 ): #Si aplica un condicion para evaluar si el numero es impar\n",
    "        num = num - 1 #Si es impar se el resta uno para que quede un numero par\n",
    "    if (num % 2 == 0): # Se verifica que cada numero sea par\n",
    "        print (num) #Se imprime el numero par\n",
    "    num -= 2 #El iterador debe ir cambiando restando 2, para se impriman los numero hasta 2 y no hasta 0"
   ]
  },
  {
   "cell_type": "markdown",
   "metadata": {},
   "source": [
    "##### Cuarto punto\n",
    "En 2022 el país A tendrá una población de 25 millones de habitantes y el país B de 18.9 millones. Las tasas de crecimiento anual de la población serán de 2% y 3% respectivamente. Desarrollar un algoritmo para informar en que año la población del país B superará a la de A."
   ]
  },
  {
   "cell_type": "code",
   "execution_count": null,
   "metadata": {},
   "outputs": [],
   "source": [
    "\"\"\"\n",
    "En 2022 el país A tendrá una población de 25 millones de habitantes y el país B de 18.9 millones. \n",
    "Las tasas de crecimiento anual de la población serán de 2% y 3% respectivamente. \n",
    "Desarrollar un algoritmo para informar en que año la población del país B superará a la de A.\n",
    "\"\"\"\n",
    "año : int; pais_a : float; pais_b : float # Se declaran las variables que se van a utilizar\n",
    "año = 2022 #Se inicializan las varibles que nos dan\n",
    "pais_a = 25000000\n",
    "pais_b = 18900000\n",
    "while (pais_a > pais_b): # El ciclo se repite hasta que el numero de habitantes del pais B sea mayor al pais A\n",
    "    pais_a += (pais_a*0.02)  #En cada iteracion la poblacion crece un porcentaje\n",
    "    pais_b += (pais_b*0.03)\n",
    "    año +=1   #Se actualiza el año en cada iteracion\n",
    "print (f\"El año donde la poblacion del pais B superara a la del pais A es en el año: {año + 1}\") \n",
    "\"\"\"\n",
    "En el año 2051 la poblacion del pais A aun sera mayor a la del pais B. por lo cual en el 2052 la poblacion sera mayor en el año siguiente, es decir en el 2052\n",
    "\"\"\""
   ]
  },
  {
   "cell_type": "markdown",
   "metadata": {},
   "source": [
    "##### Quinto punto \n",
    "Imprimir el factorial de un número natural n dado."
   ]
  },
  {
   "cell_type": "code",
   "execution_count": null,
   "metadata": {},
   "outputs": [],
   "source": [
    "num : int; fac : int, i: int #Se declaran las variables a utilizar\n",
    "num = int (input (\"¿A que numero le quiere sacar el factorial?: \")) # Se le pide un numero al usuario\n",
    "i : int = 1 #Se incializan las variables\n",
    "fac : int = 1\n",
    "while (i<=num): #El ciclo While se repite siempre que el iterador (i) sea menor al numero ingresado\n",
    "    fac *= i # Se actuliza el valor de fac, multiplicando todos lo numero anteriores a este\n",
    "    i+=1 #Se actualiza el iterador\n",
    "print (f\"El numero factorial de {num} es {fac}\") #Se imprime el resultador"
   ]
  },
  {
   "cell_type": "markdown",
   "metadata": {},
   "source": [
    "##### Sexto punto\n",
    "Implementar un algoritmo que permita adivinar un número dado de 1 a 100, preguntando en cada caso si el número es mayor, menor o igual."
   ]
  },
  {
   "cell_type": "code",
   "execution_count": null,
   "metadata": {},
   "outputs": [],
   "source": [
    "import random  #Se importa la libreria random para que el python genere un elemento al asar en un rango establecido\n",
    "\n",
    "num_aleatorio : int; num_2 : int; oportunidad : int = 0 # Se declaran e incializan las variables\n",
    "num_aleatorio = random.randrange (1,100) # devuelve un elemento aleatorio extraído de la secuencia de números enteros generada por range\n",
    "num_1 = int ( input (\"Ingrese el numero: \")) # Permite ingresar un numero para intentar adivinar el numero\n",
    "while ( num_aleatorio != num_1): #El ciclo se repite siempre que el numero aleatorio sea diferente al numero ingresado\n",
    "    if (num_aleatorio > num_1): # Se implementa un incondicional para evaluar si el numero ingresado es mayor o menor al numero aleatorio\n",
    "        print ( \"El numero a adivinar es  mayor\")\n",
    "        num_1 = int ( input (\"Ingrese nuevamente un otro numero: \"))\n",
    "    else:\n",
    "        print ( \"El numero a adivinar es  menor\")\n",
    "        num_1 = int ( input (\"Ingrese nuevamente otro el numero: \")) #Se muestran los mensajes correspondientes\n",
    "    oportunidad += 1 #Se actualiza el numero de intentos que se ha hecho\n",
    "print (f\"Excelente, Has adivinado el numero que era {num_aleatorio} en {oportunidad} oportunidades\")"
   ]
  },
  {
   "cell_type": "markdown",
   "metadata": {},
   "source": [
    "##### Séptimo punto\n",
    "Implementar un programa que ingrese un número de 2 a 50 y muestre sus divisores."
   ]
  },
  {
   "cell_type": "code",
   "execution_count": null,
   "metadata": {},
   "outputs": [],
   "source": [
    "num : int\n",
    "num = int (input (\"Ingrese  a que numero quiere sacar los divisores: \")) #Se pide un numero al ususario\n",
    "i : int = 1 # Se inializa el iterador del ciclo\n",
    "print (f\"los divisores de {num} son: \")\n",
    "while (num > i): # El ciclo While se repite siempre cuando i sea menor al numero\n",
    "    if (num % i == 0): # Se implementa un condicional, en el cual se evalua el numero por todos lo numero anteriores\n",
    "        print (i) # Si esto se cumple, indica que si es divisor y este se imprime\n",
    "    i +=1 # Se actualiza la variable\n",
    "    "
   ]
  },
  {
   "cell_type": "markdown",
   "metadata": {},
   "source": [
    "##### Octavo Punto\n",
    "Implementar el algoritmo que muestre los números primos del 1 al 100. Nota: use funciones"
   ]
  },
  {
   "cell_type": "code",
   "execution_count": null,
   "metadata": {},
   "outputs": [],
   "source": [
    "#Se crea una funcion para verificar si un numerp es primo o no\n",
    "def evaluar_numero (num : int, i : int = 2 ): #i Se inicializa en 2, para que pueda entrar al ciclo While\n",
    "    while (i <= (num**1/2)): #se implementa el ciclo While, se repite siempre y cuando i sea menor o igual a la raiz del numero\n",
    "        if (num % i == 0): #Se aplica un condicional, donde retorna False si el modulo entre el numero y i es igual a cero\n",
    "            return False\n",
    "        i +=1 #Se actuliza la variable i aumentando 1 cada vez que pasa por el ciclo\n",
    "    return True #Retorna True cuando el numero es primo\n",
    "\n",
    "num : int = 0 #Se inicializa la variable num en 1 para estar seguros que entre en el ciclo While, y que empiece desde 1\n",
    "if __name__ == \"__main__\": #funcion principal\n",
    "    while (num <= 100): #Este ciclo while se repite siempre y cuando num sea menor o igual a 100\n",
    "        if (evaluar_numero(num) == True): # Se implementa la funcion evaluar_numero para verificar cada numero del 1 al 100\n",
    "            print (num)#Si la funcion es igual a True se imprime el numero primo.\n",
    "            num +=1 #Se actualiza la variable num sumando 1\n",
    "        else: #Si la funcion no es igual a True simplementeo se le actualiza num, sumando 1\n",
    "            num +=1\n"
   ]
  }
 ],
 "metadata": {
  "kernelspec": {
   "display_name": "Python 3",
   "language": "python",
   "name": "python3"
  },
  "language_info": {
   "codemirror_mode": {
    "name": "ipython",
    "version": 3
   },
   "file_extension": ".py",
   "mimetype": "text/x-python",
   "name": "python",
   "nbconvert_exporter": "python",
   "pygments_lexer": "ipython3",
   "version": "3.12.2"
  }
 },
 "nbformat": 4,
 "nbformat_minor": 2
}
